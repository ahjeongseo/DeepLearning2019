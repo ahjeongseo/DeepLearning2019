{
 "cells": [
  {
   "cell_type": "markdown",
   "metadata": {},
   "source": [
    "# M2177.003100 Deep Learning <br> Assignment #1 Part 3: Playing with Neural Networks by TensorFlow"
   ]
  },
  {
   "cell_type": "markdown",
   "metadata": {},
   "source": [
    "Copyright (C) Data Science & AI Laboratory, Seoul National University. This material is for educational uses only. Some contents are based on the material provided by other paper/book authors and may be copyrighted by them. "
   ]
  },
  {
   "cell_type": "markdown",
   "metadata": {
    "colab_type": "text",
    "id": "kR-4eNdK6lYS"
   },
   "source": [
    "Previously in `Assignment2-1_Data_Curation.ipynb`, we created a pickle with formatted datasets for training, development and testing on the [notMNIST dataset](http://yaroslavvb.blogspot.com/2011/09/notmnist-dataset.html).\n",
    "\n",
    "The goal of this assignment is to progressively train deeper and more accurate models using TensorFlow.\n",
    "\n",
    "**Note**: certain details are missing or ambiguous on purpose, in order to test your knowledge on the related materials. However, if you really feel that something essential is missing and cannot proceed to the next step, then contact the teaching staff with clear description of your problem.\n",
    "\n",
    "### Submitting your work:\n",
    "<font color=red>**DO NOT clear the final outputs**</font> so that TAs can grade both your code and results.  \n",
    "Once you have done **part 1 - 3**, run the *CollectSubmission.sh* script with your **Student number** as input argument. <br>\n",
    "This will produce a compressed file called *[Your student number].tar.gz*. Please submit this file on ETL. &nbsp;&nbsp; (Usage: ./*CollectSubmission.sh* &nbsp; 20\\*\\*-\\*\\*\\*\\*\\*)"
   ]
  },
  {
   "cell_type": "markdown",
   "metadata": {},
   "source": [
    "## Load datasets\n",
    "\n",
    "First reload the data we generated in `Assignment2-1_Data_Curation.ipynb`."
   ]
  },
  {
   "cell_type": "code",
   "execution_count": 6,
   "metadata": {
    "cellView": "both",
    "colab": {
     "autoexec": {
      "startup": false,
      "wait_interval": 0
     }
    },
    "colab_type": "code",
    "id": "JLpLa8Jt7Vu4"
   },
   "outputs": [
    {
     "name": "stdout",
     "output_type": "stream",
     "text": [
      "1.12.0\n"
     ]
    }
   ],
   "source": [
    "# These are all the modules we'll be using later. Make sure you can import them\n",
    "# before proceeding further.\n",
    "from __future__ import print_function\n",
    "import numpy as np\n",
    "import tensorflow as tf\n",
    "from six.moves import cPickle as pickle\n",
    "from six.moves import range\n",
    "import os\n",
    "\n",
    "#configuration for gpu usage\n",
    "conf = tf.ConfigProto()\n",
    "# you can modify below as you want\n",
    "#conf.gpu_options.per_process_gpu_memory_fraction = 0.4\n",
    "# conf.gpu_options.allow_growth = True\n",
    "#os.environ['CUDA_VISIBLE_DEVICES']='0'\n",
    "print(tf.__version__)"
   ]
  },
  {
   "cell_type": "code",
   "execution_count": 7,
   "metadata": {
    "cellView": "both",
    "colab": {
     "autoexec": {
      "startup": false,
      "wait_interval": 0
     },
     "output_extras": [
      {
       "item_id": 1
      }
     ]
    },
    "colab_type": "code",
    "executionInfo": {
     "elapsed": 19456,
     "status": "ok",
     "timestamp": 1449847956073,
     "user": {
      "color": "",
      "displayName": "",
      "isAnonymous": false,
      "isMe": true,
      "permissionId": "",
      "photoUrl": "",
      "sessionId": "0",
      "userId": ""
     },
     "user_tz": 480
    },
    "id": "y3-cj1bpmuxc",
    "outputId": "0ddb1607-1fc4-4ddb-de28-6c7ab7fb0c33"
   },
   "outputs": [
    {
     "name": "stdout",
     "output_type": "stream",
     "text": [
      "Training set (200000, 28, 28) (200000,)\n",
      "Validation set (10000, 28, 28) (10000,)\n",
      "Test set (10000, 28, 28) (10000,)\n"
     ]
    }
   ],
   "source": [
    "pickle_file = 'data/notMNIST.pickle'\n",
    "\n",
    "with open(pickle_file, 'rb') as f:\n",
    "    save = pickle.load(f)\n",
    "    train_dataset = save['train_dataset']\n",
    "    train_labels = save['train_labels']\n",
    "    valid_dataset = save['valid_dataset']\n",
    "    valid_labels = save['valid_labels']\n",
    "    test_dataset = save['test_dataset']\n",
    "    test_labels = save['test_labels']\n",
    "    del save  # hint to help gc free up memory\n",
    "    print('Training set', train_dataset.shape, train_labels.shape)\n",
    "    print('Validation set', valid_dataset.shape, valid_labels.shape)\n",
    "    print('Test set', test_dataset.shape, test_labels.shape)"
   ]
  },
  {
   "cell_type": "markdown",
   "metadata": {
    "colab_type": "text",
    "id": "L7aHrm6nGDMB"
   },
   "source": [
    "Reformat into a shape that's more adapted to the models we're going to train:\n",
    "- data as a flat matrix,\n",
    "- labels as float 1-hot encodings."
   ]
  },
  {
   "cell_type": "code",
   "execution_count": 8,
   "metadata": {
    "cellView": "both",
    "colab": {
     "autoexec": {
      "startup": false,
      "wait_interval": 0
     },
     "output_extras": [
      {
       "item_id": 1
      }
     ]
    },
    "colab_type": "code",
    "executionInfo": {
     "elapsed": 19723,
     "status": "ok",
     "timestamp": 1449847956364,
     "user": {
      "color": "",
      "displayName": "",
      "isAnonymous": false,
      "isMe": true,
      "permissionId": "",
      "photoUrl": "",
      "sessionId": "0",
      "userId": ""
     },
     "user_tz": 480
    },
    "id": "IRSyYiIIGIzS",
    "outputId": "2ba0fc75-1487-4ace-a562-cf81cae82793"
   },
   "outputs": [
    {
     "name": "stdout",
     "output_type": "stream",
     "text": [
      "Training set (200000, 784) (200000, 10)\n",
      "Validation set (10000, 784) (10000, 10)\n",
      "Test set (10000, 784) (10000, 10)\n"
     ]
    }
   ],
   "source": [
    "image_size = 28\n",
    "num_labels = 10\n",
    "\n",
    "def reformat(dataset, labels):\n",
    "    dataset = dataset.reshape((-1, image_size * image_size)).astype(np.float32)\n",
    "    # Map 0 to [1.0, 0.0, 0.0 ...], 1 to [0.0, 1.0, 0.0 ...]\n",
    "    labels = (np.arange(num_labels) == labels[:,None]).astype(np.float32)\n",
    "    return dataset, labels\n",
    "train_dataset, train_labels = reformat(train_dataset, train_labels)\n",
    "valid_dataset, valid_labels = reformat(valid_dataset, valid_labels)\n",
    "test_dataset, test_labels = reformat(test_dataset, test_labels)\n",
    "print('Training set', train_dataset.shape, train_labels.shape)\n",
    "print('Validation set', valid_dataset.shape, valid_labels.shape)\n",
    "print('Test set', test_dataset.shape, test_labels.shape)"
   ]
  },
  {
   "cell_type": "markdown",
   "metadata": {
    "colab_type": "text",
    "id": "nCLVqyQ5vPPH"
   },
   "source": [
    "## TensorFlow tutorial: Fully Connected Network\n",
    "\n",
    "We're first going to train a **fully connected network** with *1 hidden layer* with *1024 units* using stochastic gradient descent (SGD).\n",
    "\n",
    "TensorFlow works like this:\n",
    "* First you describe the computation that you want to see performed: what the inputs, the variables, and the operations look like. These get created as nodes over a computation graph. This description is all contained within the block below:\n",
    "\n",
    "      with graph.as_default():\n",
    "          ...\n",
    "\n",
    "* Then you can run the operations on this graph as many times as you want by calling `session.run()`, providing it outputs to fetch from the graph that get returned. This runtime operation is all contained in the block below:\n",
    "\n",
    "      with tf.Session(graph=graph) as session:\n",
    "          ...\n",
    "\n",
    "Let's load all the data into TensorFlow and build the computation graph corresponding to our training:"
   ]
  },
  {
   "cell_type": "code",
   "execution_count": 9,
   "metadata": {},
   "outputs": [],
   "source": [
    "batch_size = 128\n",
    "nn_hidden = 1024\n",
    "\n",
    "graph = tf.Graph()\n",
    "with graph.as_default():\n",
    "    # Input data. For the training data, we use a placeholder that will be fed\n",
    "    # at run time with a training minibatch.\n",
    "    tf_dataset = tf.placeholder(tf.float32,\n",
    "                                      shape=(None, image_size * image_size))\n",
    "    tf_labels = tf.placeholder(tf.float32, shape=(None, num_labels))\n",
    "    \n",
    "    # Parameters. \n",
    "    w1 = tf.Variable(tf.truncated_normal([image_size * image_size, nn_hidden]))\n",
    "    b1 = tf.Variable(tf.zeros([nn_hidden]))\n",
    "    w2 = tf.Variable(tf.truncated_normal([nn_hidden, num_labels]))\n",
    "    b2 = tf.Variable(tf.zeros([num_labels]))\n",
    "    \n",
    "    # Training computation.\n",
    "    hidden = tf.tanh(tf.matmul(tf_dataset, w1) + b1)\n",
    "    logits = tf.matmul(hidden, w2) + b2\n",
    "    \n",
    "    loss = tf.reduce_mean(\n",
    "        tf.nn.softmax_cross_entropy_with_logits_v2(labels=tf_labels, logits=logits))\n",
    "    \n",
    "    # Optimizer.\n",
    "    optimizer = tf.train.GradientDescentOptimizer(0.5).minimize(loss)\n",
    "  \n",
    "    # Predictions for the training, validation, and test data.\n",
    "    prediction = tf.nn.softmax(logits)"
   ]
  },
  {
   "cell_type": "markdown",
   "metadata": {
    "colab_type": "text",
    "id": "KQcL4uqISHjP"
   },
   "source": [
    "Let's run this computation and iterate:"
   ]
  },
  {
   "cell_type": "code",
   "execution_count": 10,
   "metadata": {},
   "outputs": [
    {
     "name": "stdout",
     "output_type": "stream",
     "text": [
      "Initialized\n",
      "Minibatch loss at step 0: 44.019894\n",
      "Minibatch accuracy: 10.9%\n",
      "Validation accuracy: 24.6%\n",
      "Minibatch loss at step 1000: 4.322669\n",
      "Minibatch accuracy: 75.0%\n",
      "Validation accuracy: 79.0%\n",
      "Minibatch loss at step 2000: 1.365759\n",
      "Minibatch accuracy: 85.9%\n",
      "Validation accuracy: 80.1%\n",
      "Minibatch loss at step 3000: 1.283789\n",
      "Minibatch accuracy: 82.0%\n",
      "Validation accuracy: 81.2%\n",
      "Minibatch loss at step 4000: 1.359046\n",
      "Minibatch accuracy: 82.0%\n",
      "Validation accuracy: 81.3%\n",
      "Minibatch loss at step 5000: 1.547990\n",
      "Minibatch accuracy: 81.2%\n",
      "Validation accuracy: 80.5%\n",
      "Minibatch loss at step 6000: 0.852165\n",
      "Minibatch accuracy: 86.7%\n",
      "Validation accuracy: 81.6%\n",
      "Minibatch loss at step 7000: 1.056340\n",
      "Minibatch accuracy: 82.8%\n",
      "Validation accuracy: 81.3%\n",
      "Minibatch loss at step 8000: 1.185338\n",
      "Minibatch accuracy: 77.3%\n",
      "Validation accuracy: 82.1%\n",
      "Minibatch loss at step 9000: 0.791655\n",
      "Minibatch accuracy: 87.5%\n",
      "Validation accuracy: 82.8%\n",
      "Test accuracy: 89.5%\n"
     ]
    }
   ],
   "source": [
    "num_steps = 10000\n",
    "\n",
    "def accuracy(predictions, labels):\n",
    "    return (100.0 * np.sum(np.equal(np.argmax(predictions, 1), np.argmax(labels, 1)))\n",
    "          / predictions.shape[0])\n",
    "\n",
    "with tf.Session(graph=graph) as session:\n",
    "    tf.global_variables_initializer().run()\n",
    "    print(\"Initialized\")\n",
    "    for step in range(num_steps):\n",
    "        # Pick an offset within the training data, which has been randomized.\n",
    "        # Note: we could use better randomization across epochs.\n",
    "        offset = (step * batch_size) % (train_labels.shape[0] - batch_size)\n",
    "        # Generate a minibatch.\n",
    "        batch_data = train_dataset[offset:(offset + batch_size), :]\n",
    "        batch_labels = train_labels[offset:(offset + batch_size), :]\n",
    "        # Prepare a dictionary telling the session where to feed the minibatch.\n",
    "        # The key of the dictionary is the placeholder node of the graph to be fed,\n",
    "        # and the value is the numpy array to feed to it.\n",
    "        feed_dict_train={tf_dataset: batch_data, tf_labels: batch_labels}\n",
    "        _, l, predictions = session.run([optimizer, loss, prediction], feed_dict=feed_dict_train)\n",
    "        if (step % 1000 == 0):\n",
    "            print(\"Minibatch loss at step %d: %f\" % (step, l))\n",
    "            print(\"Minibatch accuracy: %.1f%%\" % accuracy(predictions, batch_labels))\n",
    "            valid_prediction = session.run(logits, feed_dict={tf_dataset: valid_dataset})\n",
    "            print(\"Validation accuracy: %.1f%%\" % accuracy(valid_prediction, valid_labels))\n",
    "                  \n",
    "    test_prediction = session.run(prediction, feed_dict={tf_dataset: test_dataset})\n",
    "    print(\"Test accuracy: %.1f%%\" % accuracy(test_prediction, test_labels))\n",
    "    saver = tf.train.Saver()\n",
    "    saver.save(session, \"./model_checkpoints/my_model_final\")"
   ]
  },
  {
   "cell_type": "markdown",
   "metadata": {},
   "source": [
    "So far, you have built the model in a naive way. However, TensorFlow provides a module named tf.layers for your convenience. \n",
    "\n",
    "From now on, build the same model as above using layers module."
   ]
  },
  {
   "cell_type": "code",
   "execution_count": 12,
   "metadata": {},
   "outputs": [],
   "source": [
    "graph_l=tf.Graph()\n",
    "with graph_l.as_default():\n",
    "    tf_dataset_l=tf.placeholder(tf.float32, shape=(None, image_size * image_size))\n",
    "    tf_labels_l=tf.placeholder(tf.float32, shape=(None, num_labels))\n",
    "    \n",
    "    #neural network consists of two lines\n",
    "    dense = tf.layers.dense(tf_dataset_l, nn_hidden, activation=tf.tanh)\n",
    "    logits_l = tf.layers.dense(dense, num_labels, activation=None)\n",
    "    \n",
    "    #Loss\n",
    "    loss_l = tf.reduce_mean(tf.nn.softmax_cross_entropy_with_logits_v2(labels=tf_labels_l, logits=logits_l))\n",
    "    \n",
    "    #Optimizer\n",
    "    optimizer_l = tf.train.GradientDescentOptimizer(0.5).minimize(loss_l)\n",
    "    \n",
    "    #Predictions for the training\n",
    "    prediction_l = tf.nn.softmax(logits_l)"
   ]
  },
  {
   "cell_type": "code",
   "execution_count": 13,
   "metadata": {},
   "outputs": [
    {
     "name": "stdout",
     "output_type": "stream",
     "text": [
      "Initialized\n",
      "Minibatch loss at step 0: 2.559959\n",
      "Validation accuracy: 46.5%\n",
      "Minibatch loss at step 1000: 0.746197\n",
      "Validation accuracy: 83.2%\n",
      "Minibatch loss at step 2000: 0.357791\n",
      "Validation accuracy: 85.2%\n",
      "Minibatch loss at step 3000: 0.430247\n",
      "Validation accuracy: 85.6%\n",
      "Minibatch loss at step 4000: 0.482335\n",
      "Validation accuracy: 86.3%\n",
      "Minibatch loss at step 5000: 0.510996\n",
      "Validation accuracy: 85.8%\n",
      "Minibatch loss at step 6000: 0.330070\n",
      "Validation accuracy: 86.4%\n",
      "Minibatch loss at step 7000: 0.382755\n",
      "Validation accuracy: 87.1%\n",
      "Minibatch loss at step 8000: 0.499273\n",
      "Validation accuracy: 87.1%\n",
      "Minibatch loss at step 9000: 0.228252\n",
      "Validation accuracy: 87.9%\n",
      "Test accuracy: 93.7%\n"
     ]
    }
   ],
   "source": [
    "with tf.Session(graph=graph_l, config=conf) as session_l:\n",
    "    tf.global_variables_initializer().run()\n",
    "    print(\"Initialized\")\n",
    "    for step in range(num_steps):\n",
    "        offset = (step * batch_size) % (train_labels.shape[0] - batch_size)\n",
    "        batch_data = train_dataset[offset:(offset + batch_size), :]\n",
    "        batch_labels = train_labels[offset:(offset + batch_size), :].astype(float)\n",
    "        feed_dict_l = {tf_dataset_l: batch_data, tf_labels_l: batch_labels}\n",
    "        _, l_l, predictions_l = session_l.run([optimizer_l, loss_l, prediction_l], feed_dict=feed_dict_l)\n",
    "        if(step % 1000 == 0):\n",
    "            print(\"Minibatch loss at step %d: %f\" % (step, l_l))\n",
    "            feed_dict_val_l = {tf_dataset_l: valid_dataset}\n",
    "            valid_prediction_l = session_l.run(prediction_l, feed_dict={tf_dataset_l: valid_dataset, tf_labels_l: valid_labels})\n",
    "            print(\"Validation accuracy: %.1f%%\" % accuracy(valid_prediction_l, valid_labels))\n",
    "\n",
    "    feed_dict_test_l = {tf_dataset_l: test_dataset}\n",
    "    test_prediction_l = session_l.run(prediction_l, feed_dict=feed_dict_test_l)\n",
    "    print(\"Test accuracy: %.1f%%\" % accuracy(test_prediction_l, test_labels))\n",
    "    saver = tf.train.Saver()\n",
    "    saver.save(session_l, \"./model_checkpoints/my_model_final_using_layers\")"
   ]
  },
  {
   "cell_type": "markdown",
   "metadata": {},
   "source": [
    "---\n",
    "Problem 1\n",
    "-------\n",
    "\n",
    "**Describe below** why there is a difference in an accuracy between the graph using layer module and the graph which is built in a naive way. **explain simply**\n",
    "\n",
    "\n",
    "\n",
    "\n",
    "\n",
    "---"
   ]
  },
  {
   "cell_type": "markdown",
   "metadata": {},
   "source": [
    "In case of naive way, tf.truncated_normal is used as weight initializer : it use a truncated normal distribution whose mean is 0 and deviation is 1. However, in case of layer module, xavier uniform is used as weight initializer. In conclusion, difference of initializer makes difference in an accuracy."
   ]
  },
  {
   "cell_type": "markdown",
   "metadata": {
    "colab_type": "text",
    "id": "7omWxtvLLxik"
   },
   "source": [
    "---\n",
    "Problem 2\n",
    "-------\n",
    "\n",
    "Try to get the best performance you can using a multi-layer model! (It doesn't matter whether you implement it in a naive way or using layer module. HOWEVER, you CANNOT use other type of layers such as conv.) \n",
    "\n",
    "The best reported test accuracy using a deep network is [97.1%](http://yaroslavvb.blogspot.kr/2011/09/notmnist-dataset.html?showComment=1391023266211#c8758720086795711595). You may use techniques below.\n",
    "\n",
    "1. Experiment with different hyperparameters: num_steps, learning rate, etc.\n",
    "2. We used a fixed learning rate epsilon for gradient descent. Implement an annealing schedule for the gradient descent learning rate ([more info](http://cs231n.github.io/neural-networks-3/#anneal)). *Hint*. Try using `tf.train.exponential_decay`.    \n",
    "3. We used a tanh activation function for our hidden layer. Experiment with other activation functions included in TensorFlow.\n",
    "4. Extend the network to multiple hidden layers. Experiment with the layer sizes. Adding another hidden layer means you will need to adjust the code. \n",
    "5. Introduce and tune regularization method (e.g. L2 regularization) for your model. Remeber that L2 amounts to adding a penalty on the norm of the weights to the loss. In TensorFlow, you can compute the L2 loss for a tensor `t` using `nn.l2_loss(t)`. The right amount of regularization should imporve your validation / test accuracy.\n",
    "6. Introduce Dropout on the hidden layer of the neural network. Remember: Dropout should only be introduced during training, not evaluation, otherwise your evaluation results would be stochastic as well. TensorFlow provides nn.dropout() for that, but you have to make sure it's only inserted during training.\n",
    "\n",
    "**Evaluation:** You will get full credit if your best test accuracy exceeds <font color=red>$93\\%$</font>. Save your best perfoming model as my_model_final using saver. (Refer to the cell above) \n",
    "\n",
    "---"
   ]
  },
  {
   "cell_type": "code",
   "execution_count": 90,
   "metadata": {},
   "outputs": [],
   "source": [
    "num_steps = 47000\n",
    "nn_hidden = 512\n",
    "beta = 0.01\n",
    "start_lr = 0.3\n",
    "\n",
    "graph_aj = tf.Graph()\n",
    "with graph_aj.as_default():\n",
    "    global_step = tf.train.get_or_create_global_step()\n",
    "    is_training = tf.placeholder(tf.bool)\n",
    "    global_step = tf.Variable(0, trainable=False)\n",
    "    learning_rate = tf.train.exponential_decay(start_lr, global_step, num_steps, 0.9, staircase=True)\n",
    "    \n",
    "    dataset_aj = tf.placeholder(tf.float32, shape=(None, image_size * image_size))\n",
    "    labels_aj = tf.placeholder(tf.float32, shape=(None, num_labels))\n",
    "    \n",
    "    # graph\n",
    "    # dense_1 = tf.layers.dense(dataset_aj, nn_hidden, kernel_regularizer=tf.nn.l2_loss)\n",
    "    dense_1 = tf.layers.dense(dataset_aj, nn_hidden)\n",
    "    relu_1 = tf.nn.relu(dense_1)\n",
    "    dropout_1 = tf.layers.dropout(relu_1, 0.8, is_training)\n",
    "    \n",
    "    # dense_2 = tf.layers.dense(dropout_1, nn_hidden, kernel_regularizer=tf.nn.l2_loss)\n",
    "    dense_2 = tf.layers.dense(dropout_1, nn_hidden)\n",
    "    relu_2 = tf.nn.relu(dense_2)\n",
    "    dropout_2 = tf.layers.dropout(relu_2, 0.8, is_training)\n",
    "    \n",
    "    dense_3 = tf.layers.dense(dropout_2, num_labels)\n",
    "    logits = tf.nn.softmax(dense_3)\n",
    "    \n",
    "    # loss, optimizer\n",
    "    loss_aj = tf.reduce_mean(\n",
    "        tf.nn.softmax_cross_entropy_with_logits_v2(labels=labels_aj, logits=logits)\n",
    "        # + beta * tf.losses.get_regularization_loss()\n",
    "    )\n",
    "    \n",
    "    optimizer_aj = tf.train.GradientDescentOptimizer(learning_rate).minimize(loss_aj, global_step=global_step)\n",
    "  \n",
    "    # prediction\n",
    "    prediction_aj = tf.nn.softmax(logits)"
   ]
  },
  {
   "cell_type": "code",
   "execution_count": 91,
   "metadata": {},
   "outputs": [
    {
     "name": "stdout",
     "output_type": "stream",
     "text": [
      "Initialized\n",
      "Minibatch loss at step 0: 2.304531\n",
      "Validation accuracy: 14.1%\n",
      "Minibatch loss at step 1000: 1.649733\n",
      "Validation accuracy: 84.3%\n",
      "Minibatch loss at step 2000: 1.576744\n",
      "Validation accuracy: 85.6%\n",
      "Minibatch loss at step 3000: 1.592049\n",
      "Validation accuracy: 86.1%\n",
      "Minibatch loss at step 4000: 1.600217\n",
      "Validation accuracy: 86.5%\n",
      "Minibatch loss at step 5000: 1.618956\n",
      "Validation accuracy: 86.9%\n",
      "Minibatch loss at step 6000: 1.579819\n",
      "Validation accuracy: 87.3%\n",
      "Minibatch loss at step 7000: 1.590778\n",
      "Validation accuracy: 87.5%\n",
      "Minibatch loss at step 8000: 1.634735\n",
      "Validation accuracy: 87.7%\n",
      "Minibatch loss at step 9000: 1.585643\n",
      "Validation accuracy: 87.5%\n",
      "Minibatch loss at step 10000: 1.607525\n",
      "Validation accuracy: 87.8%\n",
      "Minibatch loss at step 11000: 1.582899\n",
      "Validation accuracy: 87.8%\n",
      "Minibatch loss at step 12000: 1.607089\n",
      "Validation accuracy: 88.0%\n",
      "Minibatch loss at step 13000: 1.559031\n",
      "Validation accuracy: 88.0%\n",
      "Minibatch loss at step 14000: 1.572704\n",
      "Validation accuracy: 88.3%\n",
      "Minibatch loss at step 15000: 1.542840\n",
      "Validation accuracy: 88.4%\n",
      "Minibatch loss at step 16000: 1.579844\n",
      "Validation accuracy: 88.5%\n",
      "Minibatch loss at step 17000: 1.558198\n",
      "Validation accuracy: 88.6%\n",
      "Minibatch loss at step 18000: 1.531168\n",
      "Validation accuracy: 88.6%\n",
      "Minibatch loss at step 19000: 1.570611\n",
      "Validation accuracy: 88.6%\n",
      "Minibatch loss at step 20000: 1.544759\n",
      "Validation accuracy: 88.8%\n",
      "Minibatch loss at step 21000: 1.515450\n",
      "Validation accuracy: 88.7%\n",
      "Minibatch loss at step 22000: 1.524215\n",
      "Validation accuracy: 88.9%\n",
      "Minibatch loss at step 23000: 1.524035\n",
      "Validation accuracy: 88.8%\n",
      "Minibatch loss at step 24000: 1.509237\n",
      "Validation accuracy: 88.7%\n",
      "Minibatch loss at step 25000: 1.537635\n",
      "Validation accuracy: 88.9%\n",
      "Minibatch loss at step 26000: 1.562932\n",
      "Validation accuracy: 88.8%\n",
      "Minibatch loss at step 27000: 1.523202\n",
      "Validation accuracy: 88.7%\n",
      "Minibatch loss at step 28000: 1.527762\n",
      "Validation accuracy: 89.0%\n",
      "Minibatch loss at step 29000: 1.535296\n",
      "Validation accuracy: 89.0%\n",
      "Minibatch loss at step 30000: 1.579739\n",
      "Validation accuracy: 89.1%\n",
      "Minibatch loss at step 31000: 1.553484\n",
      "Validation accuracy: 89.2%\n",
      "Minibatch loss at step 32000: 1.525260\n",
      "Validation accuracy: 89.0%\n",
      "Minibatch loss at step 33000: 1.508221\n",
      "Validation accuracy: 89.4%\n",
      "Minibatch loss at step 34000: 1.550265\n",
      "Validation accuracy: 89.3%\n",
      "Minibatch loss at step 35000: 1.541694\n",
      "Validation accuracy: 89.3%\n",
      "Minibatch loss at step 36000: 1.524211\n",
      "Validation accuracy: 89.3%\n",
      "Minibatch loss at step 37000: 1.518185\n",
      "Validation accuracy: 89.0%\n",
      "Minibatch loss at step 38000: 1.536902\n",
      "Validation accuracy: 89.3%\n",
      "Minibatch loss at step 39000: 1.524128\n",
      "Validation accuracy: 89.2%\n",
      "Minibatch loss at step 40000: 1.518597\n",
      "Validation accuracy: 89.4%\n",
      "Minibatch loss at step 41000: 1.533845\n",
      "Validation accuracy: 89.3%\n",
      "Minibatch loss at step 42000: 1.544516\n",
      "Validation accuracy: 89.2%\n",
      "Minibatch loss at step 43000: 1.525892\n",
      "Validation accuracy: 88.9%\n",
      "Minibatch loss at step 44000: 1.496708\n",
      "Validation accuracy: 89.4%\n",
      "Minibatch loss at step 45000: 1.540791\n",
      "Validation accuracy: 89.4%\n",
      "Minibatch loss at step 46000: 1.513105\n",
      "Validation accuracy: 89.4%\n",
      "Test accuracy: 95.3%\n"
     ]
    }
   ],
   "source": [
    "with tf.Session(graph=graph_aj, config=conf) as session_aj:\n",
    "    tf.global_variables_initializer().run()\n",
    "    print(\"Initialized\")\n",
    "    for step in range(num_steps):\n",
    "        offset = (step * batch_size) % (train_labels.shape[0] - batch_size)\n",
    "        batch_data = train_dataset[offset:(offset + batch_size), :]\n",
    "        batch_labels = train_labels[offset:(offset + batch_size), :].astype(float)\n",
    "        feed_dict_aj = {dataset_aj: batch_data, labels_aj: batch_labels}\n",
    "        _, l_aj, predictions_aj = session_aj.run([optimizer_aj, loss_aj, prediction_aj], feed_dict=feed_dict_aj)\n",
    "        if(step % 1000 == 0):\n",
    "            print(\"Minibatch loss at step %d: %f\" % (step, l_aj))\n",
    "            feed_dict_val_aj = {dataset_aj: valid_dataset}\n",
    "            valid_prediction_aj = session_aj.run(prediction_aj, feed_dict={dataset_aj: valid_dataset, labels_aj: valid_labels})\n",
    "            print(\"Validation accuracy: %.1f%%\" % accuracy(valid_prediction_aj, valid_labels))\n",
    "            \n",
    "    feed_dict_test_aj = {dataset_aj: test_dataset}\n",
    "    test_prediction_aj = session_aj.run(prediction_aj, feed_dict=feed_dict_test_aj)\n",
    "    print(\"Test accuracy: %.1f%%\" % accuracy(test_prediction_aj, test_labels))\n",
    "    saver = tf.train.Saver()\n",
    "    saver.save(session_aj, \"./model_checkpoints/my_model_final_using_layers\")"
   ]
  }
 ],
 "metadata": {
  "colab": {
   "default_view": {},
   "name": "2_fullyconnected.ipynb",
   "provenance": [],
   "version": "0.3.2",
   "views": {}
  },
  "kernelspec": {
   "display_name": "Python 3",
   "language": "python",
   "name": "python3"
  },
  "language_info": {
   "codemirror_mode": {
    "name": "ipython",
    "version": 3
   },
   "file_extension": ".py",
   "mimetype": "text/x-python",
   "name": "python",
   "nbconvert_exporter": "python",
   "pygments_lexer": "ipython3",
   "version": "3.7.3"
  }
 },
 "nbformat": 4,
 "nbformat_minor": 2
}
